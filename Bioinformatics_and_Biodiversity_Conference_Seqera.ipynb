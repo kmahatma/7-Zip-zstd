{
  "nbformat": 4,
  "nbformat_minor": 0,
  "metadata": {
    "colab": {
      "provenance": [],
      "include_colab_link": true
    },
    "kernelspec": {
      "name": "python3",
      "display_name": "Python 3"
    },
    "language_info": {
      "name": "python"
    }
  },
  "cells": [
    {
      "cell_type": "markdown",
      "metadata": {
        "id": "view-in-github",
        "colab_type": "text"
      },
      "source": [
        "<a href=\"https://colab.research.google.com/github/kmahatma/7-Zip-zstd/blob/master/Bioinformatics_and_Biodiversity_Conference_Seqera.ipynb\" target=\"_parent\"><img src=\"https://colab.research.google.com/assets/colab-badge.svg\" alt=\"Open In Colab\"/></a>"
      ]
    },
    {
      "cell_type": "markdown",
      "source": [
        "##Hello World"
      ],
      "metadata": {
        "id": "pj6JnmO3KIGu"
      }
    },
    {
      "cell_type": "code",
      "execution_count": null,
      "metadata": {
        "colab": {
          "base_uri": "https://localhost:8080/"
        },
        "id": "z2sEtDmdfqMq",
        "outputId": "11773c57-d0b7-4b56-dc41-b9ecced75363"
      },
      "outputs": [
        {
          "output_type": "stream",
          "name": "stdout",
          "text": [
            "Reading package lists... Done\n",
            "Building dependency tree... Done\n",
            "Reading state information... Done\n",
            "The following additional packages will be installed:\n",
            "  fonts-dejavu-core fonts-dejavu-extra libatk-wrapper-java libatk-wrapper-java-jni libfontenc1\n",
            "  libice-dev libsm-dev libxkbfile1 libxt-dev libxtst6 libxxf86dga1 openjdk-11-jre x11-utils\n",
            "Suggested packages:\n",
            "  libice-doc libsm-doc libxt-doc openjdk-11-demo openjdk-11-source visualvm mesa-utils\n",
            "The following NEW packages will be installed:\n",
            "  fonts-dejavu-core fonts-dejavu-extra libatk-wrapper-java libatk-wrapper-java-jni libfontenc1\n",
            "  libice-dev libsm-dev libxkbfile1 libxt-dev libxtst6 libxxf86dga1 openjdk-11-jdk openjdk-11-jre\n",
            "  x11-utils\n",
            "0 upgraded, 14 newly installed, 0 to remove and 49 not upgraded.\n",
            "Need to get 5,517 kB of archives.\n",
            "After this operation, 15.8 MB of additional disk space will be used.\n",
            "Get:1 http://archive.ubuntu.com/ubuntu jammy/main amd64 fonts-dejavu-core all 2.37-2build1 [1,041 kB]\n",
            "Get:2 http://archive.ubuntu.com/ubuntu jammy/main amd64 fonts-dejavu-extra all 2.37-2build1 [2,041 kB]\n",
            "Get:3 http://archive.ubuntu.com/ubuntu jammy/main amd64 libfontenc1 amd64 1:1.1.4-1build3 [14.7 kB]\n",
            "Get:4 http://archive.ubuntu.com/ubuntu jammy/main amd64 libxkbfile1 amd64 1:1.1.0-1build3 [71.8 kB]\n",
            "Get:5 http://archive.ubuntu.com/ubuntu jammy/main amd64 libxtst6 amd64 2:1.2.3-1build4 [13.4 kB]\n",
            "Get:6 http://archive.ubuntu.com/ubuntu jammy/main amd64 libxxf86dga1 amd64 2:1.1.5-0ubuntu3 [12.6 kB]\n",
            "Get:7 http://archive.ubuntu.com/ubuntu jammy/main amd64 x11-utils amd64 7.7+5build2 [206 kB]\n",
            "Get:8 http://archive.ubuntu.com/ubuntu jammy/main amd64 libatk-wrapper-java all 0.38.0-5build1 [53.1 kB]\n",
            "Get:9 http://archive.ubuntu.com/ubuntu jammy/main amd64 libatk-wrapper-java-jni amd64 0.38.0-5build1 [49.0 kB]\n",
            "Get:10 http://archive.ubuntu.com/ubuntu jammy/main amd64 libice-dev amd64 2:1.0.10-1build2 [51.4 kB]\n",
            "Get:11 http://archive.ubuntu.com/ubuntu jammy/main amd64 libsm-dev amd64 2:1.2.3-1build2 [18.1 kB]\n",
            "Get:12 http://archive.ubuntu.com/ubuntu jammy/main amd64 libxt-dev amd64 1:1.2.1-1 [396 kB]\n",
            "Get:13 http://archive.ubuntu.com/ubuntu jammy-updates/main amd64 openjdk-11-jre amd64 11.0.25+9-1ubuntu1~22.04 [216 kB]\n",
            "Get:14 http://archive.ubuntu.com/ubuntu jammy-updates/main amd64 openjdk-11-jdk amd64 11.0.25+9-1ubuntu1~22.04 [1,334 kB]\n",
            "Fetched 5,517 kB in 1s (10.8 MB/s)\n",
            "Selecting previously unselected package fonts-dejavu-core.\n",
            "(Reading database ... 123629 files and directories currently installed.)\n",
            "Preparing to unpack .../00-fonts-dejavu-core_2.37-2build1_all.deb ...\n",
            "Unpacking fonts-dejavu-core (2.37-2build1) ...\n",
            "Selecting previously unselected package fonts-dejavu-extra.\n",
            "Preparing to unpack .../01-fonts-dejavu-extra_2.37-2build1_all.deb ...\n",
            "Unpacking fonts-dejavu-extra (2.37-2build1) ...\n",
            "Selecting previously unselected package libfontenc1:amd64.\n",
            "Preparing to unpack .../02-libfontenc1_1%3a1.1.4-1build3_amd64.deb ...\n",
            "Unpacking libfontenc1:amd64 (1:1.1.4-1build3) ...\n",
            "Selecting previously unselected package libxkbfile1:amd64.\n",
            "Preparing to unpack .../03-libxkbfile1_1%3a1.1.0-1build3_amd64.deb ...\n",
            "Unpacking libxkbfile1:amd64 (1:1.1.0-1build3) ...\n",
            "Selecting previously unselected package libxtst6:amd64.\n",
            "Preparing to unpack .../04-libxtst6_2%3a1.2.3-1build4_amd64.deb ...\n",
            "Unpacking libxtst6:amd64 (2:1.2.3-1build4) ...\n",
            "Selecting previously unselected package libxxf86dga1:amd64.\n",
            "Preparing to unpack .../05-libxxf86dga1_2%3a1.1.5-0ubuntu3_amd64.deb ...\n",
            "Unpacking libxxf86dga1:amd64 (2:1.1.5-0ubuntu3) ...\n",
            "Selecting previously unselected package x11-utils.\n",
            "Preparing to unpack .../06-x11-utils_7.7+5build2_amd64.deb ...\n",
            "Unpacking x11-utils (7.7+5build2) ...\n",
            "Selecting previously unselected package libatk-wrapper-java.\n",
            "Preparing to unpack .../07-libatk-wrapper-java_0.38.0-5build1_all.deb ...\n",
            "Unpacking libatk-wrapper-java (0.38.0-5build1) ...\n",
            "Selecting previously unselected package libatk-wrapper-java-jni:amd64.\n",
            "Preparing to unpack .../08-libatk-wrapper-java-jni_0.38.0-5build1_amd64.deb ...\n",
            "Unpacking libatk-wrapper-java-jni:amd64 (0.38.0-5build1) ...\n",
            "Selecting previously unselected package libice-dev:amd64.\n",
            "Preparing to unpack .../09-libice-dev_2%3a1.0.10-1build2_amd64.deb ...\n",
            "Unpacking libice-dev:amd64 (2:1.0.10-1build2) ...\n",
            "Selecting previously unselected package libsm-dev:amd64.\n",
            "Preparing to unpack .../10-libsm-dev_2%3a1.2.3-1build2_amd64.deb ...\n",
            "Unpacking libsm-dev:amd64 (2:1.2.3-1build2) ...\n",
            "Selecting previously unselected package libxt-dev:amd64.\n",
            "Preparing to unpack .../11-libxt-dev_1%3a1.2.1-1_amd64.deb ...\n",
            "Unpacking libxt-dev:amd64 (1:1.2.1-1) ...\n",
            "Selecting previously unselected package openjdk-11-jre:amd64.\n",
            "Preparing to unpack .../12-openjdk-11-jre_11.0.25+9-1ubuntu1~22.04_amd64.deb ...\n",
            "Unpacking openjdk-11-jre:amd64 (11.0.25+9-1ubuntu1~22.04) ...\n",
            "Selecting previously unselected package openjdk-11-jdk:amd64.\n",
            "Preparing to unpack .../13-openjdk-11-jdk_11.0.25+9-1ubuntu1~22.04_amd64.deb ...\n",
            "Unpacking openjdk-11-jdk:amd64 (11.0.25+9-1ubuntu1~22.04) ...\n",
            "Setting up libice-dev:amd64 (2:1.0.10-1build2) ...\n",
            "Setting up libsm-dev:amd64 (2:1.2.3-1build2) ...\n",
            "Setting up libxtst6:amd64 (2:1.2.3-1build4) ...\n",
            "Setting up libxxf86dga1:amd64 (2:1.1.5-0ubuntu3) ...\n",
            "Setting up openjdk-11-jre:amd64 (11.0.25+9-1ubuntu1~22.04) ...\n",
            "Setting up libfontenc1:amd64 (1:1.1.4-1build3) ...\n",
            "Setting up libxt-dev:amd64 (1:1.2.1-1) ...\n",
            "Setting up fonts-dejavu-core (2.37-2build1) ...\n",
            "Setting up fonts-dejavu-extra (2.37-2build1) ...\n",
            "Setting up openjdk-11-jdk:amd64 (11.0.25+9-1ubuntu1~22.04) ...\n",
            "update-alternatives: using /usr/lib/jvm/java-11-openjdk-amd64/bin/jconsole to provide /usr/bin/jconsole (jconsole) in auto mode\n",
            "Setting up libxkbfile1:amd64 (1:1.1.0-1build3) ...\n",
            "Setting up x11-utils (7.7+5build2) ...\n",
            "Setting up libatk-wrapper-java (0.38.0-5build1) ...\n",
            "Setting up libatk-wrapper-java-jni:amd64 (0.38.0-5build1) ...\n",
            "Processing triggers for hicolor-icon-theme (0.17-2) ...\n",
            "Processing triggers for libc-bin (2.35-0ubuntu3.4) ...\n",
            "/sbin/ldconfig.real: /usr/local/lib/libtbbbind_2_5.so.3 is not a symbolic link\n",
            "\n",
            "/sbin/ldconfig.real: /usr/local/lib/libtbbmalloc.so.2 is not a symbolic link\n",
            "\n",
            "/sbin/ldconfig.real: /usr/local/lib/libtbb.so.12 is not a symbolic link\n",
            "\n",
            "/sbin/ldconfig.real: /usr/local/lib/libtbbmalloc_proxy.so.2 is not a symbolic link\n",
            "\n",
            "/sbin/ldconfig.real: /usr/local/lib/libur_adapter_opencl.so.0 is not a symbolic link\n",
            "\n",
            "/sbin/ldconfig.real: /usr/local/lib/libur_loader.so.0 is not a symbolic link\n",
            "\n",
            "/sbin/ldconfig.real: /usr/local/lib/libumf.so.0 is not a symbolic link\n",
            "\n",
            "/sbin/ldconfig.real: /usr/local/lib/libtbbbind_2_0.so.3 is not a symbolic link\n",
            "\n",
            "/sbin/ldconfig.real: /usr/local/lib/libtcm.so.1 is not a symbolic link\n",
            "\n",
            "/sbin/ldconfig.real: /usr/local/lib/libhwloc.so.15 is not a symbolic link\n",
            "\n",
            "/sbin/ldconfig.real: /usr/local/lib/libtcm_debug.so.1 is not a symbolic link\n",
            "\n",
            "/sbin/ldconfig.real: /usr/local/lib/libur_adapter_level_zero.so.0 is not a symbolic link\n",
            "\n",
            "/sbin/ldconfig.real: /usr/local/lib/libtbbbind.so.3 is not a symbolic link\n",
            "\n",
            "Processing triggers for man-db (2.10.2-1) ...\n",
            "Processing triggers for fontconfig (2.13.1-4.2ubuntu5) ...\n",
            "\u001b[K\n",
            "      N E X T F L O W\n",
            "      version 24.10.0 build 5928\n",
            "      created 27-10-2024 18:36 UTC \n",
            "      cite doi:10.1038/nbt.3820\n",
            "      http://nextflow.io\n",
            "\n",
            "\n",
            "Nextflow installation completed. Please note:\n",
            "- the executable file `nextflow` has been created in the folder: /content\n",
            "- you may complete the installation by moving it to a directory in your $PATH\n",
            "\n",
            "\n",
            "      N E X T F L O W\n",
            "      version 24.10.0 build 5928\n",
            "      created 27-10-2024 18:36 UTC \n",
            "      cite doi:10.1038/nbt.3820\n",
            "      http://nextflow.io\n",
            "\n"
          ]
        }
      ],
      "source": [
        "# Install Java (Nextflow requires Java 8 or later)\n",
        "!apt-get install -y openjdk-11-jdk\n",
        "\n",
        "# Download and install Nextflow\n",
        "!curl -s https://get.nextflow.io | bash\n",
        "!mv nextflow /usr/local/bin/\n",
        "\n",
        "# Verify Nextflow installation\n",
        "!nextflow -version"
      ]
    },
    {
      "cell_type": "code",
      "source": [
        "# Create a working directory\n",
        "!mkdir -p /content/hello_world_workflow\n",
        "%cd /content/hello_world_workflow"
      ],
      "metadata": {
        "colab": {
          "base_uri": "https://localhost:8080/"
        },
        "id": "0q7a_jl4fw6T",
        "outputId": "b2f16a9e-f119-4616-a572-610a0a5c3fa6"
      },
      "execution_count": null,
      "outputs": [
        {
          "output_type": "stream",
          "name": "stdout",
          "text": [
            "/content/hello_world_workflow\n"
          ]
        }
      ]
    },
    {
      "cell_type": "code",
      "source": [
        "# Pull the hello-world pipeline\n",
        "!nextflow pull nextflow-io/hello"
      ],
      "metadata": {
        "colab": {
          "base_uri": "https://localhost:8080/"
        },
        "id": "fscwa6QogA1J",
        "outputId": "fbe8d299-6d18-4ec4-8277-df584905e941"
      },
      "execution_count": null,
      "outputs": [
        {
          "output_type": "stream",
          "name": "stdout",
          "text": [
            "Checking nextflow-io/hello ...\n",
            " downloaded from https://github.com/nextflow-io/hello.git - revision: afff16a9b4 [master]\n"
          ]
        }
      ]
    },
    {
      "cell_type": "code",
      "source": [
        "# Run the hello-world pipeline using Nextflow\n",
        "!nextflow run nextflow-io/hello -profile standard"
      ],
      "metadata": {
        "colab": {
          "base_uri": "https://localhost:8080/"
        },
        "id": "0oRsa-tvgQs8",
        "outputId": "5dadab20-74a3-4dfb-c0ed-41ba53dcabe3"
      },
      "execution_count": null,
      "outputs": [
        {
          "output_type": "stream",
          "name": "stdout",
          "text": [
            "\n",
            "\u001b[1m\u001b[38;5;232m\u001b[48;5;43m N E X T F L O W \u001b[0;2m  ~  \u001b[mversion 24.10.0\u001b[m\n",
            "\u001b[K\n",
            "Launching\u001b[35m `https://github.com/nextflow-io/hello` \u001b[0;2m[\u001b[0;1;36mpensive_varahamihira\u001b[0;2m] DSL2 - \u001b[36mrevision: \u001b[0;36mafff16a9b4 [master]\u001b[m\n",
            "\u001b[K\n",
            "\u001b[2m[\u001b[0;34m-        \u001b[0;2m] \u001b[0;2m\u001b[msayHello -\u001b[K\n",
            "\u001b[2A\n",
            "\u001b[2mexecutor >  local (1)\u001b[m\u001b[K\n",
            "\u001b[2m[\u001b[0;34m9f/bc011a\u001b[0;2m] \u001b[0;2m\u001b[msayHello\u001b[33;2m (\u001b[0;33m2\u001b[2m)\u001b[m\u001b[2m |\u001b[m 0 of 4\u001b[K\n",
            "\u001b[3A\n",
            "\u001b[2mexecutor >  local (4)\u001b[m\u001b[K\n",
            "\u001b[2m[\u001b[0;34m03/4f29ce\u001b[0;2m] \u001b[0;2m\u001b[msayHello\u001b[33;2m (\u001b[0;33m4\u001b[2m)\u001b[m\u001b[2m |\u001b[m 0 of 4\u001b[K\n",
            "Bonjour world!\u001b[K\n",
            "\u001b[K\n",
            "Hello world!\u001b[K\n",
            "\u001b[K\n",
            "Ciao world!\u001b[K\n",
            "\u001b[K\n",
            "\u001b[9A\n",
            "\u001b[2mexecutor >  local (4)\u001b[m\u001b[K\n",
            "\u001b[2m[\u001b[0;34m03/4f29ce\u001b[0;2m] \u001b[0;2m\u001b[msayHello\u001b[33;2m (\u001b[0;33m4\u001b[2m)\u001b[m\u001b[2m |\u001b[m 4 of 4\u001b[32m ✔\u001b[m\u001b[K\n",
            "Bonjour world!\u001b[K\n",
            "\u001b[K\n",
            "Hello world!\u001b[K\n",
            "\u001b[K\n",
            "Ciao world!\u001b[K\n",
            "\u001b[K\n",
            "Hola world!\u001b[K\n",
            "\u001b[K\n",
            "\n"
          ]
        }
      ]
    },
    {
      "cell_type": "code",
      "source": [
        "# Check the output directory\n",
        "!ls -R ./work"
      ],
      "metadata": {
        "colab": {
          "base_uri": "https://localhost:8080/"
        },
        "id": "QPs5a0gxJCCQ",
        "outputId": "ca4faee5-ad9f-464a-8430-74760ae4a728"
      },
      "execution_count": null,
      "outputs": [
        {
          "output_type": "stream",
          "name": "stdout",
          "text": [
            "./work:\n",
            "36  62\t84  f0\n",
            "\n",
            "./work/36:\n",
            "6e70012d6e6059cfd9745b2e3a86b4\n",
            "\n",
            "./work/36/6e70012d6e6059cfd9745b2e3a86b4:\n",
            "\n",
            "./work/62:\n",
            "3b7f51bd61ed7b634c9a8837715048\n",
            "\n",
            "./work/62/3b7f51bd61ed7b634c9a8837715048:\n",
            "\n",
            "./work/84:\n",
            "c88b7554dbbff774219b042971b69d\n",
            "\n",
            "./work/84/c88b7554dbbff774219b042971b69d:\n",
            "\n",
            "./work/f0:\n",
            "914068df2b2b478afea7876541c03c\n",
            "\n",
            "./work/f0/914068df2b2b478afea7876541c03c:\n"
          ]
        }
      ]
    },
    {
      "cell_type": "code",
      "source": [
        "# Set the Tower configuration via environment variables\n",
        "%env NXF_TOWER_ENABLED=true\n",
        "%env NXF_TOWER_TOKEN=eyJ0aWQiOiAxMDQxNn0uN2Y3OTg1Yzc0YmEyZjQyYzhhMzEwZTg0NTRjZDI5OGQxZmIzYzVhYw=="
      ],
      "metadata": {
        "colab": {
          "base_uri": "https://localhost:8080/"
        },
        "id": "mcNgry0pJG0n",
        "outputId": "030408bf-e6b0-468b-cd35-fee1394454e7"
      },
      "execution_count": null,
      "outputs": [
        {
          "output_type": "stream",
          "name": "stdout",
          "text": [
            "env: NXF_TOWER_ENABLED=true\n",
            "env: NXF_TOWER_TOKEN=eyJ0aWQiOiAxMDQxNn0uN2Y3OTg1Yzc0YmEyZjQyYzhhMzEwZTg0NTRjZDI5OGQxZmIzYzVhYw==\n"
          ]
        }
      ]
    },
    {
      "cell_type": "code",
      "source": [
        "!nextflow info"
      ],
      "metadata": {
        "colab": {
          "base_uri": "https://localhost:8080/"
        },
        "id": "82OHZtTTJI8s",
        "outputId": "2fde45e3-fcbe-483e-9076-43fd4814e023"
      },
      "execution_count": null,
      "outputs": [
        {
          "output_type": "stream",
          "name": "stdout",
          "text": [
            "  Version: 24.10.0 build 5928\n",
            "  Created: 27-10-2024 18:36 UTC \n",
            "  System: Linux 6.1.85+\n",
            "  Runtime: Groovy 4.0.23 on OpenJDK 64-Bit Server VM 11.0.25+9-post-Ubuntu-1ubuntu122.04\n",
            "  Encoding: UTF-8 (UTF-8)\n",
            "\n"
          ]
        }
      ]
    },
    {
      "cell_type": "code",
      "source": [
        "!nextflow run nextflow-io/hello -profile standard"
      ],
      "metadata": {
        "colab": {
          "base_uri": "https://localhost:8080/"
        },
        "id": "PZO0_bRwJg3X",
        "outputId": "e6ff58d3-049b-4654-d018-6503b598d1ed"
      },
      "execution_count": null,
      "outputs": [
        {
          "output_type": "stream",
          "name": "stdout",
          "text": [
            "\n",
            "\u001b[1m\u001b[38;5;232m\u001b[48;5;43m N E X T F L O W \u001b[0;2m  ~  \u001b[mversion 24.10.0\u001b[m\n",
            "\u001b[K\n",
            "Launching\u001b[35m `https://github.com/nextflow-io/hello` \u001b[0;2m[\u001b[0;1;36msick_monod\u001b[0;2m] DSL2 - \u001b[36mrevision: \u001b[0;36mafff16a9b4 [master]\u001b[m\n",
            "\u001b[K\n",
            "\u001b[2m[\u001b[0;34m-        \u001b[0;2m] \u001b[0;2m\u001b[msayHello -\u001b[K\n",
            "\u001b[2A\n",
            "\u001b[2mexecutor >  local (2)\u001b[m\u001b[K\n",
            "\u001b[2m[\u001b[0;34mab/04c0a4\u001b[0;2m] \u001b[0;2m\u001b[msayHello\u001b[33;2m (\u001b[0;33m2\u001b[2m)\u001b[m\u001b[2m |\u001b[m 0 of 4\u001b[K\n",
            "\u001b[3A\n",
            "\u001b[2mexecutor >  local (4)\u001b[m\u001b[K\n",
            "\u001b[2m[\u001b[0;34m21/6bec04\u001b[0;2m] \u001b[0;2m\u001b[msayHello\u001b[33;2m (\u001b[0;33m4\u001b[2m)\u001b[m\u001b[2m |\u001b[m 4 of 4\u001b[32m ✔\u001b[m\u001b[K\n",
            "Bonjour world!\u001b[K\n",
            "\u001b[K\n",
            "Ciao world!\u001b[K\n",
            "\u001b[K\n",
            "Hello world!\u001b[K\n",
            "\u001b[K\n",
            "Hola world!\u001b[K\n",
            "\u001b[K\n",
            "\u001b[11A\n",
            "\u001b[2mexecutor >  local (4)\u001b[m\u001b[K\n",
            "\u001b[2m[\u001b[0;34m21/6bec04\u001b[0;2m] \u001b[0;2m\u001b[msayHello\u001b[33;2m (\u001b[0;33m4\u001b[2m)\u001b[m\u001b[2m |\u001b[m 4 of 4\u001b[32m ✔\u001b[m\u001b[K\n",
            "Bonjour world!\u001b[K\n",
            "\u001b[K\n",
            "Ciao world!\u001b[K\n",
            "\u001b[K\n",
            "Hello world!\u001b[K\n",
            "\u001b[K\n",
            "Hola world!\u001b[K\n",
            "\u001b[K\n",
            "\n"
          ]
        }
      ]
    },
    {
      "cell_type": "markdown",
      "source": [
        "## nf-core"
      ],
      "metadata": {
        "id": "zbolUIe9Moix"
      }
    },
    {
      "cell_type": "code",
      "source": [
        "# Create and navigate to a working directory\n",
        "!mkdir -p /content/nfcore_rnaseq\n",
        "%cd /content/nfcore_rnaseq"
      ],
      "metadata": {
        "colab": {
          "base_uri": "https://localhost:8080/"
        },
        "id": "AGT6xjhhJjXn",
        "outputId": "9e0c93f1-a976-420c-eb5f-3f937d3a412c"
      },
      "execution_count": null,
      "outputs": [
        {
          "output_type": "stream",
          "name": "stdout",
          "text": [
            "/content/nfcore_rnaseq\n"
          ]
        }
      ]
    },
    {
      "cell_type": "code",
      "source": [
        "# Install Docker (optional for Colab but generally required for nf-core)\n",
        "!apt-get install -y docker.io"
      ],
      "metadata": {
        "colab": {
          "base_uri": "https://localhost:8080/"
        },
        "id": "-7LEc5ZIMq3Y",
        "outputId": "b6aad0b2-d9ae-4e0e-ce4e-fe986b72b934"
      },
      "execution_count": null,
      "outputs": [
        {
          "output_type": "stream",
          "name": "stdout",
          "text": [
            "Reading package lists... Done\n",
            "Building dependency tree... Done\n",
            "Reading state information... Done\n",
            "The following additional packages will be installed:\n",
            "  apparmor bridge-utils containerd dns-root-data dnsmasq-base iptables libip6tc2\n",
            "  libnetfilter-conntrack3 libnfnetlink0 libnftnl11 netbase netcat netcat-openbsd pigz runc\n",
            "  ubuntu-fan\n",
            "Suggested packages:\n",
            "  apparmor-profiles-extra apparmor-utils ifupdown aufs-tools btrfs-progs cgroupfs-mount\n",
            "  | cgroup-lite debootstrap docker-doc rinse zfs-fuse | zfsutils firewalld nftables\n",
            "The following NEW packages will be installed:\n",
            "  apparmor bridge-utils containerd dns-root-data dnsmasq-base docker.io iptables libip6tc2\n",
            "  libnetfilter-conntrack3 libnfnetlink0 libnftnl11 netbase netcat netcat-openbsd pigz runc\n",
            "  ubuntu-fan\n",
            "0 upgraded, 17 newly installed, 0 to remove and 49 not upgraded.\n",
            "Need to get 76.8 MB of archives.\n",
            "After this operation, 290 MB of additional disk space will be used.\n",
            "Get:1 http://archive.ubuntu.com/ubuntu jammy/universe amd64 pigz amd64 2.6-1 [63.6 kB]\n",
            "Get:2 http://archive.ubuntu.com/ubuntu jammy/main amd64 netbase all 6.3 [12.9 kB]\n",
            "Get:3 http://archive.ubuntu.com/ubuntu jammy/main amd64 netcat-openbsd amd64 1.218-4ubuntu1 [39.4 kB]\n",
            "Get:4 http://archive.ubuntu.com/ubuntu jammy-updates/main amd64 apparmor amd64 3.0.4-2ubuntu2.4 [598 kB]\n",
            "Get:5 http://archive.ubuntu.com/ubuntu jammy-updates/main amd64 libip6tc2 amd64 1.8.7-1ubuntu5.2 [20.3 kB]\n",
            "Get:6 http://archive.ubuntu.com/ubuntu jammy/main amd64 libnfnetlink0 amd64 1.0.1-3build3 [14.6 kB]\n",
            "Get:7 http://archive.ubuntu.com/ubuntu jammy/main amd64 libnetfilter-conntrack3 amd64 1.0.9-1 [45.3 kB]\n",
            "Get:8 http://archive.ubuntu.com/ubuntu jammy/main amd64 libnftnl11 amd64 1.2.1-1build1 [65.5 kB]\n",
            "Get:9 http://archive.ubuntu.com/ubuntu jammy-updates/main amd64 iptables amd64 1.8.7-1ubuntu5.2 [455 kB]\n",
            "Get:10 http://archive.ubuntu.com/ubuntu jammy/main amd64 bridge-utils amd64 1.7-1ubuntu3 [34.4 kB]\n",
            "Get:11 http://archive.ubuntu.com/ubuntu jammy-updates/main amd64 runc amd64 1.1.12-0ubuntu2~22.04.1 [8,405 kB]\n",
            "Get:12 http://archive.ubuntu.com/ubuntu jammy-updates/main amd64 containerd amd64 1.7.12-0ubuntu2~22.04.1 [37.8 MB]\n",
            "Get:13 http://archive.ubuntu.com/ubuntu jammy-updates/main amd64 dns-root-data all 2023112702~ubuntu0.22.04.1 [5,136 B]\n",
            "Get:14 http://archive.ubuntu.com/ubuntu jammy-updates/main amd64 dnsmasq-base amd64 2.90-0ubuntu0.22.04.1 [374 kB]\n",
            "Get:15 http://archive.ubuntu.com/ubuntu jammy-updates/universe amd64 docker.io amd64 24.0.7-0ubuntu2~22.04.1 [28.8 MB]\n",
            "Get:16 http://archive.ubuntu.com/ubuntu jammy/universe amd64 netcat all 1.218-4ubuntu1 [2,044 B]\n",
            "Get:17 http://archive.ubuntu.com/ubuntu jammy/universe amd64 ubuntu-fan all 0.12.16 [35.2 kB]\n",
            "Fetched 76.8 MB in 4s (21.8 MB/s)\n",
            "Preconfiguring packages ...\n",
            "Selecting previously unselected package pigz.\n",
            "(Reading database ... 124133 files and directories currently installed.)\n",
            "Preparing to unpack .../00-pigz_2.6-1_amd64.deb ...\n",
            "Unpacking pigz (2.6-1) ...\n",
            "Selecting previously unselected package netbase.\n",
            "Preparing to unpack .../01-netbase_6.3_all.deb ...\n",
            "Unpacking netbase (6.3) ...\n",
            "Selecting previously unselected package netcat-openbsd.\n",
            "Preparing to unpack .../02-netcat-openbsd_1.218-4ubuntu1_amd64.deb ...\n",
            "Unpacking netcat-openbsd (1.218-4ubuntu1) ...\n",
            "Selecting previously unselected package apparmor.\n",
            "Preparing to unpack .../03-apparmor_3.0.4-2ubuntu2.4_amd64.deb ...\n",
            "Unpacking apparmor (3.0.4-2ubuntu2.4) ...\n",
            "Selecting previously unselected package libip6tc2:amd64.\n",
            "Preparing to unpack .../04-libip6tc2_1.8.7-1ubuntu5.2_amd64.deb ...\n",
            "Unpacking libip6tc2:amd64 (1.8.7-1ubuntu5.2) ...\n",
            "Selecting previously unselected package libnfnetlink0:amd64.\n",
            "Preparing to unpack .../05-libnfnetlink0_1.0.1-3build3_amd64.deb ...\n",
            "Unpacking libnfnetlink0:amd64 (1.0.1-3build3) ...\n",
            "Selecting previously unselected package libnetfilter-conntrack3:amd64.\n",
            "Preparing to unpack .../06-libnetfilter-conntrack3_1.0.9-1_amd64.deb ...\n",
            "Unpacking libnetfilter-conntrack3:amd64 (1.0.9-1) ...\n",
            "Selecting previously unselected package libnftnl11:amd64.\n",
            "Preparing to unpack .../07-libnftnl11_1.2.1-1build1_amd64.deb ...\n",
            "Unpacking libnftnl11:amd64 (1.2.1-1build1) ...\n",
            "Selecting previously unselected package iptables.\n",
            "Preparing to unpack .../08-iptables_1.8.7-1ubuntu5.2_amd64.deb ...\n",
            "Unpacking iptables (1.8.7-1ubuntu5.2) ...\n",
            "Selecting previously unselected package bridge-utils.\n",
            "Preparing to unpack .../09-bridge-utils_1.7-1ubuntu3_amd64.deb ...\n",
            "Unpacking bridge-utils (1.7-1ubuntu3) ...\n",
            "Selecting previously unselected package runc.\n",
            "Preparing to unpack .../10-runc_1.1.12-0ubuntu2~22.04.1_amd64.deb ...\n",
            "Unpacking runc (1.1.12-0ubuntu2~22.04.1) ...\n",
            "Selecting previously unselected package containerd.\n",
            "Preparing to unpack .../11-containerd_1.7.12-0ubuntu2~22.04.1_amd64.deb ...\n",
            "Unpacking containerd (1.7.12-0ubuntu2~22.04.1) ...\n",
            "Selecting previously unselected package dns-root-data.\n",
            "Preparing to unpack .../12-dns-root-data_2023112702~ubuntu0.22.04.1_all.deb ...\n",
            "Unpacking dns-root-data (2023112702~ubuntu0.22.04.1) ...\n",
            "Selecting previously unselected package dnsmasq-base.\n",
            "Preparing to unpack .../13-dnsmasq-base_2.90-0ubuntu0.22.04.1_amd64.deb ...\n",
            "Unpacking dnsmasq-base (2.90-0ubuntu0.22.04.1) ...\n",
            "Selecting previously unselected package docker.io.\n",
            "Preparing to unpack .../14-docker.io_24.0.7-0ubuntu2~22.04.1_amd64.deb ...\n",
            "Unpacking docker.io (24.0.7-0ubuntu2~22.04.1) ...\n",
            "Selecting previously unselected package netcat.\n",
            "Preparing to unpack .../15-netcat_1.218-4ubuntu1_all.deb ...\n",
            "Unpacking netcat (1.218-4ubuntu1) ...\n",
            "Selecting previously unselected package ubuntu-fan.\n",
            "Preparing to unpack .../16-ubuntu-fan_0.12.16_all.deb ...\n",
            "Unpacking ubuntu-fan (0.12.16) ...\n",
            "Setting up libip6tc2:amd64 (1.8.7-1ubuntu5.2) ...\n",
            "Setting up netcat-openbsd (1.218-4ubuntu1) ...\n",
            "update-alternatives: using /bin/nc.openbsd to provide /bin/nc (nc) in auto mode\n",
            "Setting up libnftnl11:amd64 (1.2.1-1build1) ...\n",
            "Setting up netcat (1.218-4ubuntu1) ...\n",
            "Setting up runc (1.1.12-0ubuntu2~22.04.1) ...\n",
            "Setting up dns-root-data (2023112702~ubuntu0.22.04.1) ...\n",
            "Setting up apparmor (3.0.4-2ubuntu2.4) ...\n",
            "Created symlink /etc/systemd/system/sysinit.target.wants/apparmor.service → /lib/systemd/system/apparmor.service.\n",
            "Setting up bridge-utils (1.7-1ubuntu3) ...\n",
            "Setting up pigz (2.6-1) ...\n",
            "Setting up libnfnetlink0:amd64 (1.0.1-3build3) ...\n",
            "Setting up netbase (6.3) ...\n",
            "Setting up containerd (1.7.12-0ubuntu2~22.04.1) ...\n",
            "Created symlink /etc/systemd/system/multi-user.target.wants/containerd.service → /lib/systemd/system/containerd.service.\n",
            "Setting up libnetfilter-conntrack3:amd64 (1.0.9-1) ...\n",
            "Setting up iptables (1.8.7-1ubuntu5.2) ...\n",
            "update-alternatives: using /usr/sbin/iptables-legacy to provide /usr/sbin/iptables (iptables) in auto mode\n",
            "update-alternatives: using /usr/sbin/ip6tables-legacy to provide /usr/sbin/ip6tables (ip6tables) in auto mode\n",
            "update-alternatives: using /usr/sbin/iptables-nft to provide /usr/sbin/iptables (iptables) in auto mode\n",
            "update-alternatives: using /usr/sbin/ip6tables-nft to provide /usr/sbin/ip6tables (ip6tables) in auto mode\n",
            "update-alternatives: using /usr/sbin/arptables-nft to provide /usr/sbin/arptables (arptables) in auto mode\n",
            "update-alternatives: using /usr/sbin/ebtables-nft to provide /usr/sbin/ebtables (ebtables) in auto mode\n",
            "Setting up docker.io (24.0.7-0ubuntu2~22.04.1) ...\n",
            "Adding group `docker' (GID 107) ...\n",
            "Done.\n",
            "Created symlink /etc/systemd/system/multi-user.target.wants/docker.service → /lib/systemd/system/docker.service.\n",
            "Created symlink /etc/systemd/system/sockets.target.wants/docker.socket → /lib/systemd/system/docker.socket.\n",
            "invoke-rc.d: unknown initscript, /etc/init.d/docker not found.\n",
            "invoke-rc.d: could not determine current runlevel\n",
            "Setting up dnsmasq-base (2.90-0ubuntu0.22.04.1) ...\n",
            "Setting up ubuntu-fan (0.12.16) ...\n",
            "Created symlink /etc/systemd/system/multi-user.target.wants/ubuntu-fan.service → /lib/systemd/system/ubuntu-fan.service.\n",
            "invoke-rc.d: could not determine current runlevel\n",
            "invoke-rc.d: policy-rc.d denied execution of start.\n",
            "Processing triggers for man-db (2.10.2-1) ...\n",
            "Processing triggers for dbus (1.12.20-2ubuntu4.1) ...\n",
            "Processing triggers for libc-bin (2.35-0ubuntu3.4) ...\n",
            "/sbin/ldconfig.real: /usr/local/lib/libtbbbind_2_5.so.3 is not a symbolic link\n",
            "\n",
            "/sbin/ldconfig.real: /usr/local/lib/libtbbmalloc.so.2 is not a symbolic link\n",
            "\n",
            "/sbin/ldconfig.real: /usr/local/lib/libtbb.so.12 is not a symbolic link\n",
            "\n",
            "/sbin/ldconfig.real: /usr/local/lib/libtbbmalloc_proxy.so.2 is not a symbolic link\n",
            "\n",
            "/sbin/ldconfig.real: /usr/local/lib/libur_adapter_opencl.so.0 is not a symbolic link\n",
            "\n",
            "/sbin/ldconfig.real: /usr/local/lib/libur_loader.so.0 is not a symbolic link\n",
            "\n",
            "/sbin/ldconfig.real: /usr/local/lib/libumf.so.0 is not a symbolic link\n",
            "\n",
            "/sbin/ldconfig.real: /usr/local/lib/libtbbbind_2_0.so.3 is not a symbolic link\n",
            "\n",
            "/sbin/ldconfig.real: /usr/local/lib/libtcm.so.1 is not a symbolic link\n",
            "\n",
            "/sbin/ldconfig.real: /usr/local/lib/libhwloc.so.15 is not a symbolic link\n",
            "\n",
            "/sbin/ldconfig.real: /usr/local/lib/libtcm_debug.so.1 is not a symbolic link\n",
            "\n",
            "/sbin/ldconfig.real: /usr/local/lib/libur_adapter_level_zero.so.0 is not a symbolic link\n",
            "\n",
            "/sbin/ldconfig.real: /usr/local/lib/libtbbbind.so.3 is not a symbolic link\n",
            "\n"
          ]
        }
      ]
    },
    {
      "cell_type": "code",
      "source": [
        "!nextflow pull nf-core/rnaseq"
      ],
      "metadata": {
        "colab": {
          "base_uri": "https://localhost:8080/"
        },
        "id": "TShsPfvwMu6C",
        "outputId": "cf019967-54f7-4f1e-ff61-34870e7a2059"
      },
      "execution_count": null,
      "outputs": [
        {
          "output_type": "stream",
          "name": "stdout",
          "text": [
            "Checking nf-core/rnaseq ...\n",
            " downloaded from https://github.com/nf-core/rnaseq.git - revision: 00f924cf92 [master]\n"
          ]
        }
      ]
    },
    {
      "cell_type": "code",
      "source": [
        "%%writefile samplesheet.csv\n",
        "   sample,fastq_1,fastq_2\n",
        "   sample1,reads/sample1_R1.fastq.gz,reads/sample1_R2.fastq.gz\n",
        "   sample2,reads/sample2_R1.fastq.gz,reads/sample2_R2.fastq.gz"
      ],
      "metadata": {
        "colab": {
          "base_uri": "https://localhost:8080/"
        },
        "id": "9DUpILyOM00U",
        "outputId": "1f88830e-a9ff-4b55-8704-92456cc72619"
      },
      "execution_count": null,
      "outputs": [
        {
          "output_type": "stream",
          "name": "stdout",
          "text": [
            "Writing samplesheet.csv\n"
          ]
        }
      ]
    },
    {
      "cell_type": "code",
      "source": [
        "!nextflow run nf-core/rnaseq \\\n",
        "    --input samplesheet.csv \\\n",
        "    --genome GRCh38 \\\n",
        "    --outdir results/ \\\n",
        "    -profile docker"
      ],
      "metadata": {
        "colab": {
          "base_uri": "https://localhost:8080/"
        },
        "id": "ZgXCr4sLM6aX",
        "outputId": "fa47954e-3b92-4d11-fb6d-ee013fca1fe0"
      },
      "execution_count": null,
      "outputs": [
        {
          "output_type": "stream",
          "name": "stdout",
          "text": [
            "\n",
            "\u001b[1m\u001b[38;5;232m\u001b[48;5;43m N E X T F L O W \u001b[0;2m  ~  \u001b[mversion 24.10.0\u001b[m\n",
            "\u001b[K\n",
            "Launching\u001b[35m `https://github.com/nf-core/rnaseq` \u001b[0;2m[\u001b[0;1;36mromantic_spence\u001b[0;2m] DSL2 - \u001b[36mrevision: \u001b[0;36m00f924cf92 [master]\u001b[m\n",
            "\u001b[K\n",
            "Downloading plugin nf-schema@2.1.1\n",
            "\n",
            "-\u001b[2m----------------------------------------------------\u001b[0m-\n",
            "                                        \u001b[0;32m,--.\u001b[0;30m/\u001b[0;32m,-.\u001b[0m\n",
            "\u001b[0;34m        ___     __   __   __   ___     \u001b[0;32m/,-._.--~'\u001b[0m\n",
            "\u001b[0;34m  |\\ | |__  __ /  ` /  \\ |__) |__         \u001b[0;33m}  {\u001b[0m\n",
            "\u001b[0;34m  | \\| |       \\__, \\__/ |  \\ |___     \u001b[0;32m\\`-._,-`-,\u001b[0m\n",
            "                                        \u001b[0;32m`._,._,'\u001b[0m\n",
            "\u001b[0;35m  nf-core/rnaseq 3.17.0\u001b[0m\n",
            "-\u001b[2m----------------------------------------------------\u001b[0m-\n",
            "\u001b[1mInput/output options\u001b[0m\n",
            "  \u001b[0;34minput           : \u001b[0;32msamplesheet.csv\u001b[0m\n",
            "  \u001b[0;34moutdir          : \u001b[0;32mresults/\u001b[0m\n",
            "\n",
            "\u001b[1mReference genome options\u001b[0m\n",
            "  \u001b[0;34mgenome          : \u001b[0;32mGRCh38\u001b[0m\n",
            "  \u001b[0;34mfasta           : \u001b[0;32ms3://ngi-igenomes/igenomes//Homo_sapiens/NCBI/GRCh38/Sequence/WholeGenomeFasta/genome.fa\u001b[0m\n",
            "  \u001b[0;34mgtf             : \u001b[0;32ms3://ngi-igenomes/igenomes//Homo_sapiens/NCBI/GRCh38/Annotation/Genes/genes.gtf\u001b[0m\n",
            "  \u001b[0;34mgene_bed        : \u001b[0;32ms3://ngi-igenomes/igenomes//Homo_sapiens/NCBI/GRCh38/Annotation/Genes/genes.bed\u001b[0m\n",
            "  \u001b[0;34mstar_index      : \u001b[0;32ms3://ngi-igenomes/igenomes//Homo_sapiens/NCBI/GRCh38/Sequence/STARIndex/\u001b[0m\n",
            "\n",
            "\u001b[1mAlignment options\u001b[0m\n",
            "  \u001b[0;34mmin_mapped_reads: \u001b[0;32m5\u001b[0m\n",
            "\n",
            "\u001b[1mCore Nextflow options\u001b[0m\n",
            "  \u001b[0;34mrevision        : \u001b[0;32mmaster\u001b[0m\n",
            "  \u001b[0;34mrunName         : \u001b[0;32mromantic_spence\u001b[0m\n",
            "  \u001b[0;34mcontainerEngine : \u001b[0;32mdocker\u001b[0m\n",
            "  \u001b[0;34mlaunchDir       : \u001b[0;32m/content/nfcore_rnaseq\u001b[0m\n",
            "  \u001b[0;34mworkDir         : \u001b[0;32m/content/nfcore_rnaseq/work\u001b[0m\n",
            "  \u001b[0;34mprojectDir      : \u001b[0;32m/root/.nextflow/assets/nf-core/rnaseq\u001b[0m\n",
            "  \u001b[0;34muserName        : \u001b[0;32mroot\u001b[0m\n",
            "  \u001b[0;34mprofile         : \u001b[0;32mdocker\u001b[0m\n",
            "  \u001b[0;34mconfigFiles     : \u001b[0;32m\u001b[0m\n",
            "\n",
            "!! Only displaying parameters that differ from the pipeline defaults !!\n",
            "-\u001b[2m----------------------------------------------------\u001b[0m-\n",
            "* The pipeline\n",
            "    https://doi.org/10.5281/zenodo.1400710\n",
            "\n",
            "* The nf-core framework\n",
            "    https://doi.org/10.1038/s41587-020-0439-x\n",
            "\n",
            "* Software dependencies\n",
            "    https://github.com/nf-core/rnaseq/blob/master/CITATIONS.md\n",
            "\n",
            "\u001b[31mERROR ~ Validation of pipeline parameters failed!\n",
            "\n",
            " -- Check '.nextflow.log' file for details\u001b[39m\u001b[K\n",
            "\u001b[0;31mThe following invalid input values have been detected:\n",
            "\n",
            "* --input (samplesheet.csv): Validation of file failed:\n",
            "\t-> Entry 1: Error for field 'fastq_2' (reads/sample1_R2.fastq.gz): FastQ file for reads 2 cannot contain spaces and must have extension '.fq.gz' or '.fastq.gz'\n",
            "\t-> Entry 1: Error for field 'fastq_1' (reads/sample1_R1.fastq.gz): FastQ file for reads 1 must be provided, cannot contain spaces and must have extension '.fq.gz' or '.fastq.gz'\n",
            "\t-> Entry 1: Missing required field(s): strandedness\n",
            "\t-> Entry 2: Error for field 'fastq_2' (reads/sample2_R2.fastq.gz): FastQ file for reads 2 cannot contain spaces and must have extension '.fq.gz' or '.fastq.gz'\n",
            "\t-> Entry 2: Error for field 'fastq_1' (reads/sample2_R1.fastq.gz): FastQ file for reads 1 must be provided, cannot contain spaces and must have extension '.fq.gz' or '.fastq.gz'\n",
            "\t-> Entry 2: Missing required field(s): strandedness\n",
            "\u001b[0m\n",
            " -- Check script '/root/.nextflow/assets/nf-core/rnaseq/./subworkflows/local/utils_nfcore_rnaseq_pipeline/../../nf-core/utils_nfschema_plugin/main.nf' at line: 39 or see '.nextflow.log' file for more details\n"
          ]
        }
      ]
    },
    {
      "cell_type": "code",
      "source": [
        "%env NXF_TOWER_ENABLED=true\n",
        "%env NXF_TOWER_TOKEN=eyJ0aWQiOiAxMDQxNn0uN2Y3OTg1Yzc0YmEyZjQyYzhhMzEwZTg0NTRjZDI5OGQxZmIzYzVhYw=="
      ],
      "metadata": {
        "colab": {
          "base_uri": "https://localhost:8080/"
        },
        "id": "rl9SOzfgNCEW",
        "outputId": "0baad3de-d510-4fb4-de44-996e452afc08"
      },
      "execution_count": null,
      "outputs": [
        {
          "output_type": "stream",
          "name": "stdout",
          "text": [
            "env: NXF_TOWER_ENABLED=true\n",
            "env: NXF_TOWER_TOKEN=eyJ0aWQiOiAxMDQxNn0uN2Y3OTg1Yzc0YmEyZjQyYzhhMzEwZTg0NTRjZDI5OGQxZmIzYzVhYw==\n"
          ]
        }
      ]
    },
    {
      "cell_type": "code",
      "source": [
        "# List output files\n",
        "!ls -R results/"
      ],
      "metadata": {
        "colab": {
          "base_uri": "https://localhost:8080/"
        },
        "id": "zUKqMmT_NTdi",
        "outputId": "e13c5559-f0e1-42c3-922d-8578c419289d"
      },
      "execution_count": null,
      "outputs": [
        {
          "output_type": "stream",
          "name": "stdout",
          "text": [
            "results/:\n",
            "pipeline_info\n",
            "\n",
            "results/pipeline_info:\n",
            "execution_trace_2024-11-16_18-20-17.txt  params_2024-11-16_18-20-55.json\n"
          ]
        }
      ]
    },
    {
      "cell_type": "code",
      "source": [
        "!apt-get install -y awscli"
      ],
      "metadata": {
        "colab": {
          "base_uri": "https://localhost:8080/"
        },
        "id": "0cmg8fWfNZS-",
        "outputId": "9d8a7763-d79b-4a7d-a4d7-d8bd45fc0eee"
      },
      "execution_count": null,
      "outputs": [
        {
          "output_type": "stream",
          "name": "stdout",
          "text": [
            "Reading package lists... Done\n",
            "Building dependency tree... Done\n",
            "Reading state information... Done\n",
            "The following additional packages will be installed:\n",
            "  docutils-common fonts-droid-fallback fonts-noto-mono fonts-urw-base35 ghostscript groff gsfonts\n",
            "  imagemagick imagemagick-6-common imagemagick-6.q16 libdjvulibre-text libdjvulibre21\n",
            "  libfftw3-double3 libgs9 libgs9-common libidn12 libijs-0.35 libimagequant0 libjbig2dec0\n",
            "  libjxr-tools libjxr0 liblqr-1-0 libmagickcore-6.q16-6 libmagickcore-6.q16-6-extra\n",
            "  libmagickwand-6.q16-6 libnetpbm10 libraqm0 libwmflite-0.2-7 mailcap mime-support netpbm\n",
            "  poppler-data psutils python3-botocore python3-certifi python3-chardet python3-colorama\n",
            "  python3-dateutil python3-docutils python3-idna python3-jmespath python3-olefile python3-pil\n",
            "  python3-pyasn1 python3-pygments python3-requests python3-roman python3-rsa python3-s3transfer\n",
            "  python3-urllib3 python3-yaml sgml-base xml-core\n",
            "Suggested packages:\n",
            "  fonts-noto fonts-freefont-otf | fonts-freefont-ttf fonts-texgyre ghostscript-x imagemagick-doc\n",
            "  autotrace cups-bsd | lpr | lprng enscript gimp gnuplot grads hp2xx html2ps libwmf-bin mplayer\n",
            "  povray radiance sane-utils texlive-base-bin transfig ufraw-batch libfftw3-bin libfftw3-dev\n",
            "  inkscape poppler-utils fonts-japanese-mincho | fonts-ipafont-mincho fonts-japanese-gothic\n",
            "  | fonts-ipafont-gothic fonts-arphic-ukai fonts-arphic-uming fonts-nanum docutils-doc\n",
            "  fonts-linuxlibertine | ttf-linux-libertine texlive-lang-french texlive-latex-base\n",
            "  texlive-latex-recommended python-pil-doc python-pygments-doc ttf-bitstream-vera python3-openssl\n",
            "  python3-socks python-requests-doc sgml-base-doc debhelper\n",
            "The following NEW packages will be installed:\n",
            "  awscli docutils-common fonts-droid-fallback fonts-noto-mono fonts-urw-base35 ghostscript groff\n",
            "  gsfonts imagemagick imagemagick-6-common imagemagick-6.q16 libdjvulibre-text libdjvulibre21\n",
            "  libfftw3-double3 libgs9 libgs9-common libidn12 libijs-0.35 libimagequant0 libjbig2dec0\n",
            "  libjxr-tools libjxr0 liblqr-1-0 libmagickcore-6.q16-6 libmagickcore-6.q16-6-extra\n",
            "  libmagickwand-6.q16-6 libnetpbm10 libraqm0 libwmflite-0.2-7 mailcap mime-support netpbm\n",
            "  poppler-data psutils python3-botocore python3-certifi python3-chardet python3-colorama\n",
            "  python3-dateutil python3-docutils python3-idna python3-jmespath python3-olefile python3-pil\n",
            "  python3-pyasn1 python3-pygments python3-requests python3-roman python3-rsa python3-s3transfer\n",
            "  python3-urllib3 python3-yaml sgml-base xml-core\n",
            "0 upgraded, 54 newly installed, 0 to remove and 49 not upgraded.\n",
            "Need to get 37.6 MB of archives.\n",
            "After this operation, 188 MB of additional disk space will be used.\n",
            "Get:1 http://archive.ubuntu.com/ubuntu jammy/main amd64 fonts-droid-fallback all 1:6.0.1r16-1.1build1 [1,805 kB]\n",
            "Get:2 http://archive.ubuntu.com/ubuntu jammy/main amd64 libfftw3-double3 amd64 3.3.8-2ubuntu8 [770 kB]\n",
            "Get:3 http://archive.ubuntu.com/ubuntu jammy/universe amd64 liblqr-1-0 amd64 0.4.2-2.1 [27.7 kB]\n",
            "Get:4 http://archive.ubuntu.com/ubuntu jammy-updates/universe amd64 imagemagick-6-common all 8:6.9.11.60+dfsg-1.3ubuntu0.22.04.5 [64.3 kB]\n",
            "Get:5 http://archive.ubuntu.com/ubuntu jammy-updates/universe amd64 libmagickcore-6.q16-6 amd64 8:6.9.11.60+dfsg-1.3ubuntu0.22.04.5 [1,795 kB]\n",
            "Get:6 http://archive.ubuntu.com/ubuntu jammy-updates/universe amd64 libmagickwand-6.q16-6 amd64 8:6.9.11.60+dfsg-1.3ubuntu0.22.04.5 [328 kB]\n",
            "Get:7 http://archive.ubuntu.com/ubuntu jammy/main amd64 poppler-data all 0.4.11-1 [2,171 kB]\n",
            "Get:8 http://archive.ubuntu.com/ubuntu jammy/main amd64 sgml-base all 1.30 [12.5 kB]\n",
            "Get:9 http://archive.ubuntu.com/ubuntu jammy/main amd64 python3-yaml amd64 5.4.1-1ubuntu1 [129 kB]\n",
            "Get:10 http://archive.ubuntu.com/ubuntu jammy/universe amd64 groff amd64 1.22.4-8build1 [4,104 kB]\n",
            "Get:11 http://archive.ubuntu.com/ubuntu jammy/main amd64 python3-dateutil all 2.8.1-6 [78.4 kB]\n",
            "Get:12 http://archive.ubuntu.com/ubuntu jammy/main amd64 python3-jmespath all 0.10.0-1 [21.7 kB]\n",
            "Get:13 http://archive.ubuntu.com/ubuntu jammy-updates/main amd64 python3-urllib3 all 1.26.5-1~exp1ubuntu0.2 [98.3 kB]\n",
            "Get:14 http://archive.ubuntu.com/ubuntu jammy/main amd64 python3-certifi all 2020.6.20-1 [150 kB]\n",
            "Get:15 http://archive.ubuntu.com/ubuntu jammy/main amd64 python3-chardet all 4.0.0-1 [98.0 kB]\n",
            "Get:16 http://archive.ubuntu.com/ubuntu jammy-updates/main amd64 python3-idna all 3.3-1ubuntu0.1 [52.1 kB]\n",
            "Get:17 http://archive.ubuntu.com/ubuntu jammy-updates/main amd64 python3-requests all 2.25.1+dfsg-2ubuntu0.1 [48.8 kB]\n",
            "Get:18 http://archive.ubuntu.com/ubuntu jammy/universe amd64 python3-botocore all 1.23.34+repack-1 [4,508 kB]\n",
            "Get:19 http://archive.ubuntu.com/ubuntu jammy/main amd64 python3-pyasn1 all 0.4.8-1 [50.9 kB]\n",
            "Get:20 http://archive.ubuntu.com/ubuntu jammy/main amd64 python3-colorama all 0.4.4-1 [24.5 kB]\n",
            "Get:21 http://archive.ubuntu.com/ubuntu jammy/main amd64 xml-core all 0.18+nmu1 [21.6 kB]\n",
            "Get:22 http://archive.ubuntu.com/ubuntu jammy/main amd64 docutils-common all 0.17.1+dfsg-2 [117 kB]\n",
            "Get:23 http://archive.ubuntu.com/ubuntu jammy/main amd64 python3-roman all 3.3-1 [10.6 kB]\n",
            "Get:24 http://archive.ubuntu.com/ubuntu jammy/main amd64 python3-docutils all 0.17.1+dfsg-2 [387 kB]\n",
            "Get:25 http://archive.ubuntu.com/ubuntu jammy/universe amd64 python3-rsa all 4.8-1 [28.4 kB]\n",
            "Get:26 http://archive.ubuntu.com/ubuntu jammy/universe amd64 python3-s3transfer all 0.5.0-1 [51.5 kB]\n",
            "Get:27 http://archive.ubuntu.com/ubuntu jammy/universe amd64 awscli all 1.22.34-1 [1,172 kB]\n",
            "Get:28 http://archive.ubuntu.com/ubuntu jammy/main amd64 fonts-noto-mono all 20201225-1build1 [397 kB]\n",
            "Get:29 http://archive.ubuntu.com/ubuntu jammy/main amd64 fonts-urw-base35 all 20200910-1 [6,367 kB]\n",
            "Get:30 http://archive.ubuntu.com/ubuntu jammy-updates/main amd64 libgs9-common all 9.55.0~dfsg1-0ubuntu5.10 [752 kB]\n",
            "Get:31 http://archive.ubuntu.com/ubuntu jammy-updates/main amd64 libidn12 amd64 1.38-4ubuntu1 [60.0 kB]\n",
            "Get:32 http://archive.ubuntu.com/ubuntu jammy/main amd64 libijs-0.35 amd64 0.35-15build2 [16.5 kB]\n",
            "Get:33 http://archive.ubuntu.com/ubuntu jammy/main amd64 libjbig2dec0 amd64 0.19-3build2 [64.7 kB]\n",
            "Get:34 http://archive.ubuntu.com/ubuntu jammy-updates/main amd64 libgs9 amd64 9.55.0~dfsg1-0ubuntu5.10 [5,031 kB]\n",
            "Get:35 http://archive.ubuntu.com/ubuntu jammy-updates/main amd64 ghostscript amd64 9.55.0~dfsg1-0ubuntu5.10 [49.4 kB]\n",
            "Get:36 http://archive.ubuntu.com/ubuntu jammy/universe amd64 gsfonts all 1:8.11+urwcyr1.0.7~pre44-4.5 [3,120 kB]\n",
            "Get:37 http://archive.ubuntu.com/ubuntu jammy-updates/universe amd64 imagemagick-6.q16 amd64 8:6.9.11.60+dfsg-1.3ubuntu0.22.04.5 [224 kB]\n",
            "Get:38 http://archive.ubuntu.com/ubuntu jammy-updates/universe amd64 imagemagick amd64 8:6.9.11.60+dfsg-1.3ubuntu0.22.04.5 [14.6 kB]\n",
            "Get:39 http://archive.ubuntu.com/ubuntu jammy/main amd64 libdjvulibre-text all 3.5.28-2build2 [50.9 kB]\n",
            "Get:40 http://archive.ubuntu.com/ubuntu jammy/main amd64 libdjvulibre21 amd64 3.5.28-2build2 [624 kB]\n",
            "Get:41 http://archive.ubuntu.com/ubuntu jammy/main amd64 libimagequant0 amd64 2.17.0-1 [34.6 kB]\n",
            "Get:42 http://archive.ubuntu.com/ubuntu jammy/universe amd64 libjxr0 amd64 1.2~git20170615.f752187-5 [174 kB]\n",
            "Get:43 http://archive.ubuntu.com/ubuntu jammy/universe amd64 libjxr-tools amd64 1.2~git20170615.f752187-5 [16.0 kB]\n",
            "Get:44 http://archive.ubuntu.com/ubuntu jammy/main amd64 libwmflite-0.2-7 amd64 0.2.12-5ubuntu1 [68.9 kB]\n",
            "Get:45 http://archive.ubuntu.com/ubuntu jammy-updates/universe amd64 libmagickcore-6.q16-6-extra amd64 8:6.9.11.60+dfsg-1.3ubuntu0.22.04.5 [70.1 kB]\n",
            "Get:46 http://archive.ubuntu.com/ubuntu jammy/universe amd64 libnetpbm10 amd64 2:10.0-15.4 [59.1 kB]\n",
            "Get:47 http://archive.ubuntu.com/ubuntu jammy/main amd64 libraqm0 amd64 0.7.0-4ubuntu1 [11.7 kB]\n",
            "Get:48 http://archive.ubuntu.com/ubuntu jammy/main amd64 mailcap all 3.70+nmu1ubuntu1 [23.8 kB]\n",
            "Get:49 http://archive.ubuntu.com/ubuntu jammy/main amd64 mime-support all 3.66 [3,696 B]\n",
            "Get:50 http://archive.ubuntu.com/ubuntu jammy/universe amd64 netpbm amd64 2:10.0-15.4 [1,007 kB]\n",
            "Get:51 http://archive.ubuntu.com/ubuntu jammy/universe amd64 psutils amd64 1.17.dfsg-4 [56.2 kB]\n",
            "Get:52 http://archive.ubuntu.com/ubuntu jammy/main amd64 python3-olefile all 0.46-3 [33.8 kB]\n",
            "Get:53 http://archive.ubuntu.com/ubuntu jammy-updates/main amd64 python3-pil amd64 9.0.1-1ubuntu0.3 [419 kB]\n",
            "Get:54 http://archive.ubuntu.com/ubuntu jammy/main amd64 python3-pygments all 2.11.2+dfsg-2 [750 kB]\n",
            "Fetched 37.6 MB in 1s (43.6 MB/s)\n",
            "Extracting templates from packages: 100%\n",
            "Selecting previously unselected package fonts-droid-fallback.\n",
            "(Reading database ... 124998 files and directories currently installed.)\n",
            "Preparing to unpack .../00-fonts-droid-fallback_1%3a6.0.1r16-1.1build1_all.deb ...\n",
            "Unpacking fonts-droid-fallback (1:6.0.1r16-1.1build1) ...\n",
            "Selecting previously unselected package libfftw3-double3:amd64.\n",
            "Preparing to unpack .../01-libfftw3-double3_3.3.8-2ubuntu8_amd64.deb ...\n",
            "Unpacking libfftw3-double3:amd64 (3.3.8-2ubuntu8) ...\n",
            "Selecting previously unselected package liblqr-1-0:amd64.\n",
            "Preparing to unpack .../02-liblqr-1-0_0.4.2-2.1_amd64.deb ...\n",
            "Unpacking liblqr-1-0:amd64 (0.4.2-2.1) ...\n",
            "Selecting previously unselected package imagemagick-6-common.\n",
            "Preparing to unpack .../03-imagemagick-6-common_8%3a6.9.11.60+dfsg-1.3ubuntu0.22.04.5_all.deb ...\n",
            "Unpacking imagemagick-6-common (8:6.9.11.60+dfsg-1.3ubuntu0.22.04.5) ...\n",
            "Selecting previously unselected package libmagickcore-6.q16-6:amd64.\n",
            "Preparing to unpack .../04-libmagickcore-6.q16-6_8%3a6.9.11.60+dfsg-1.3ubuntu0.22.04.5_amd64.deb ...\n",
            "Unpacking libmagickcore-6.q16-6:amd64 (8:6.9.11.60+dfsg-1.3ubuntu0.22.04.5) ...\n",
            "Selecting previously unselected package libmagickwand-6.q16-6:amd64.\n",
            "Preparing to unpack .../05-libmagickwand-6.q16-6_8%3a6.9.11.60+dfsg-1.3ubuntu0.22.04.5_amd64.deb ...\n",
            "Unpacking libmagickwand-6.q16-6:amd64 (8:6.9.11.60+dfsg-1.3ubuntu0.22.04.5) ...\n",
            "Selecting previously unselected package poppler-data.\n",
            "Preparing to unpack .../06-poppler-data_0.4.11-1_all.deb ...\n",
            "Unpacking poppler-data (0.4.11-1) ...\n",
            "Selecting previously unselected package sgml-base.\n",
            "Preparing to unpack .../07-sgml-base_1.30_all.deb ...\n",
            "Unpacking sgml-base (1.30) ...\n",
            "Selecting previously unselected package python3-yaml.\n",
            "Preparing to unpack .../08-python3-yaml_5.4.1-1ubuntu1_amd64.deb ...\n",
            "Unpacking python3-yaml (5.4.1-1ubuntu1) ...\n",
            "Selecting previously unselected package groff.\n",
            "Preparing to unpack .../09-groff_1.22.4-8build1_amd64.deb ...\n",
            "Unpacking groff (1.22.4-8build1) ...\n",
            "Selecting previously unselected package python3-dateutil.\n",
            "Preparing to unpack .../10-python3-dateutil_2.8.1-6_all.deb ...\n",
            "Unpacking python3-dateutil (2.8.1-6) ...\n",
            "Selecting previously unselected package python3-jmespath.\n",
            "Preparing to unpack .../11-python3-jmespath_0.10.0-1_all.deb ...\n",
            "Unpacking python3-jmespath (0.10.0-1) ...\n",
            "Selecting previously unselected package python3-urllib3.\n",
            "Preparing to unpack .../12-python3-urllib3_1.26.5-1~exp1ubuntu0.2_all.deb ...\n",
            "Unpacking python3-urllib3 (1.26.5-1~exp1ubuntu0.2) ...\n",
            "Selecting previously unselected package python3-certifi.\n",
            "Preparing to unpack .../13-python3-certifi_2020.6.20-1_all.deb ...\n",
            "Unpacking python3-certifi (2020.6.20-1) ...\n",
            "Selecting previously unselected package python3-chardet.\n",
            "Preparing to unpack .../14-python3-chardet_4.0.0-1_all.deb ...\n",
            "Unpacking python3-chardet (4.0.0-1) ...\n",
            "Selecting previously unselected package python3-idna.\n",
            "Preparing to unpack .../15-python3-idna_3.3-1ubuntu0.1_all.deb ...\n",
            "Unpacking python3-idna (3.3-1ubuntu0.1) ...\n",
            "Selecting previously unselected package python3-requests.\n",
            "Preparing to unpack .../16-python3-requests_2.25.1+dfsg-2ubuntu0.1_all.deb ...\n",
            "Unpacking python3-requests (2.25.1+dfsg-2ubuntu0.1) ...\n",
            "Selecting previously unselected package python3-botocore.\n",
            "Preparing to unpack .../17-python3-botocore_1.23.34+repack-1_all.deb ...\n",
            "Unpacking python3-botocore (1.23.34+repack-1) ...\n",
            "Selecting previously unselected package python3-pyasn1.\n",
            "Preparing to unpack .../18-python3-pyasn1_0.4.8-1_all.deb ...\n",
            "Unpacking python3-pyasn1 (0.4.8-1) ...\n",
            "Selecting previously unselected package python3-colorama.\n",
            "Preparing to unpack .../19-python3-colorama_0.4.4-1_all.deb ...\n",
            "Unpacking python3-colorama (0.4.4-1) ...\n",
            "Selecting previously unselected package xml-core.\n",
            "Preparing to unpack .../20-xml-core_0.18+nmu1_all.deb ...\n",
            "Unpacking xml-core (0.18+nmu1) ...\n",
            "Selecting previously unselected package docutils-common.\n",
            "Preparing to unpack .../21-docutils-common_0.17.1+dfsg-2_all.deb ...\n",
            "Unpacking docutils-common (0.17.1+dfsg-2) ...\n",
            "Selecting previously unselected package python3-roman.\n",
            "Preparing to unpack .../22-python3-roman_3.3-1_all.deb ...\n",
            "Unpacking python3-roman (3.3-1) ...\n",
            "Selecting previously unselected package python3-docutils.\n",
            "Preparing to unpack .../23-python3-docutils_0.17.1+dfsg-2_all.deb ...\n",
            "Unpacking python3-docutils (0.17.1+dfsg-2) ...\n",
            "Selecting previously unselected package python3-rsa.\n",
            "Preparing to unpack .../24-python3-rsa_4.8-1_all.deb ...\n",
            "Unpacking python3-rsa (4.8-1) ...\n",
            "Selecting previously unselected package python3-s3transfer.\n",
            "Preparing to unpack .../25-python3-s3transfer_0.5.0-1_all.deb ...\n",
            "Unpacking python3-s3transfer (0.5.0-1) ...\n",
            "Selecting previously unselected package awscli.\n",
            "Preparing to unpack .../26-awscli_1.22.34-1_all.deb ...\n",
            "Unpacking awscli (1.22.34-1) ...\n",
            "Selecting previously unselected package fonts-noto-mono.\n",
            "Preparing to unpack .../27-fonts-noto-mono_20201225-1build1_all.deb ...\n",
            "Unpacking fonts-noto-mono (20201225-1build1) ...\n",
            "Selecting previously unselected package fonts-urw-base35.\n",
            "Preparing to unpack .../28-fonts-urw-base35_20200910-1_all.deb ...\n",
            "Unpacking fonts-urw-base35 (20200910-1) ...\n",
            "Selecting previously unselected package libgs9-common.\n",
            "Preparing to unpack .../29-libgs9-common_9.55.0~dfsg1-0ubuntu5.10_all.deb ...\n",
            "Unpacking libgs9-common (9.55.0~dfsg1-0ubuntu5.10) ...\n",
            "Selecting previously unselected package libidn12:amd64.\n",
            "Preparing to unpack .../30-libidn12_1.38-4ubuntu1_amd64.deb ...\n",
            "Unpacking libidn12:amd64 (1.38-4ubuntu1) ...\n",
            "Selecting previously unselected package libijs-0.35:amd64.\n",
            "Preparing to unpack .../31-libijs-0.35_0.35-15build2_amd64.deb ...\n",
            "Unpacking libijs-0.35:amd64 (0.35-15build2) ...\n",
            "Selecting previously unselected package libjbig2dec0:amd64.\n",
            "Preparing to unpack .../32-libjbig2dec0_0.19-3build2_amd64.deb ...\n",
            "Unpacking libjbig2dec0:amd64 (0.19-3build2) ...\n",
            "Selecting previously unselected package libgs9:amd64.\n",
            "Preparing to unpack .../33-libgs9_9.55.0~dfsg1-0ubuntu5.10_amd64.deb ...\n",
            "Unpacking libgs9:amd64 (9.55.0~dfsg1-0ubuntu5.10) ...\n",
            "Selecting previously unselected package ghostscript.\n",
            "Preparing to unpack .../34-ghostscript_9.55.0~dfsg1-0ubuntu5.10_amd64.deb ...\n",
            "Unpacking ghostscript (9.55.0~dfsg1-0ubuntu5.10) ...\n",
            "Selecting previously unselected package gsfonts.\n",
            "Preparing to unpack .../35-gsfonts_1%3a8.11+urwcyr1.0.7~pre44-4.5_all.deb ...\n",
            "Unpacking gsfonts (1:8.11+urwcyr1.0.7~pre44-4.5) ...\n",
            "Selecting previously unselected package imagemagick-6.q16.\n",
            "Preparing to unpack .../36-imagemagick-6.q16_8%3a6.9.11.60+dfsg-1.3ubuntu0.22.04.5_amd64.deb ...\n",
            "Unpacking imagemagick-6.q16 (8:6.9.11.60+dfsg-1.3ubuntu0.22.04.5) ...\n",
            "Selecting previously unselected package imagemagick.\n",
            "Preparing to unpack .../37-imagemagick_8%3a6.9.11.60+dfsg-1.3ubuntu0.22.04.5_amd64.deb ...\n",
            "Unpacking imagemagick (8:6.9.11.60+dfsg-1.3ubuntu0.22.04.5) ...\n",
            "Selecting previously unselected package libdjvulibre-text.\n",
            "Preparing to unpack .../38-libdjvulibre-text_3.5.28-2build2_all.deb ...\n",
            "Unpacking libdjvulibre-text (3.5.28-2build2) ...\n",
            "Selecting previously unselected package libdjvulibre21:amd64.\n",
            "Preparing to unpack .../39-libdjvulibre21_3.5.28-2build2_amd64.deb ...\n",
            "Unpacking libdjvulibre21:amd64 (3.5.28-2build2) ...\n",
            "Selecting previously unselected package libimagequant0:amd64.\n",
            "Preparing to unpack .../40-libimagequant0_2.17.0-1_amd64.deb ...\n",
            "Unpacking libimagequant0:amd64 (2.17.0-1) ...\n",
            "Selecting previously unselected package libjxr0:amd64.\n",
            "Preparing to unpack .../41-libjxr0_1.2~git20170615.f752187-5_amd64.deb ...\n",
            "Unpacking libjxr0:amd64 (1.2~git20170615.f752187-5) ...\n",
            "Selecting previously unselected package libjxr-tools.\n",
            "Preparing to unpack .../42-libjxr-tools_1.2~git20170615.f752187-5_amd64.deb ...\n",
            "Unpacking libjxr-tools (1.2~git20170615.f752187-5) ...\n",
            "Selecting previously unselected package libwmflite-0.2-7:amd64.\n",
            "Preparing to unpack .../43-libwmflite-0.2-7_0.2.12-5ubuntu1_amd64.deb ...\n",
            "Unpacking libwmflite-0.2-7:amd64 (0.2.12-5ubuntu1) ...\n",
            "Selecting previously unselected package libmagickcore-6.q16-6-extra:amd64.\n",
            "Preparing to unpack .../44-libmagickcore-6.q16-6-extra_8%3a6.9.11.60+dfsg-1.3ubuntu0.22.04.5_amd64.deb ...\n",
            "Unpacking libmagickcore-6.q16-6-extra:amd64 (8:6.9.11.60+dfsg-1.3ubuntu0.22.04.5) ...\n",
            "Selecting previously unselected package libnetpbm10.\n",
            "Preparing to unpack .../45-libnetpbm10_2%3a10.0-15.4_amd64.deb ...\n",
            "Unpacking libnetpbm10 (2:10.0-15.4) ...\n",
            "Selecting previously unselected package libraqm0:amd64.\n",
            "Preparing to unpack .../46-libraqm0_0.7.0-4ubuntu1_amd64.deb ...\n",
            "Unpacking libraqm0:amd64 (0.7.0-4ubuntu1) ...\n",
            "Selecting previously unselected package mailcap.\n",
            "Preparing to unpack .../47-mailcap_3.70+nmu1ubuntu1_all.deb ...\n",
            "Unpacking mailcap (3.70+nmu1ubuntu1) ...\n",
            "Selecting previously unselected package mime-support.\n",
            "Preparing to unpack .../48-mime-support_3.66_all.deb ...\n",
            "Unpacking mime-support (3.66) ...\n",
            "Selecting previously unselected package netpbm.\n",
            "Preparing to unpack .../49-netpbm_2%3a10.0-15.4_amd64.deb ...\n",
            "Unpacking netpbm (2:10.0-15.4) ...\n",
            "Selecting previously unselected package psutils.\n",
            "Preparing to unpack .../50-psutils_1.17.dfsg-4_amd64.deb ...\n",
            "Unpacking psutils (1.17.dfsg-4) ...\n",
            "Selecting previously unselected package python3-olefile.\n",
            "Preparing to unpack .../51-python3-olefile_0.46-3_all.deb ...\n",
            "Unpacking python3-olefile (0.46-3) ...\n",
            "Selecting previously unselected package python3-pil:amd64.\n",
            "Preparing to unpack .../52-python3-pil_9.0.1-1ubuntu0.3_amd64.deb ...\n",
            "Unpacking python3-pil:amd64 (9.0.1-1ubuntu0.3) ...\n",
            "Selecting previously unselected package python3-pygments.\n",
            "Preparing to unpack .../53-python3-pygments_2.11.2+dfsg-2_all.deb ...\n",
            "Unpacking python3-pygments (2.11.2+dfsg-2) ...\n",
            "Setting up imagemagick-6-common (8:6.9.11.60+dfsg-1.3ubuntu0.22.04.5) ...\n",
            "Setting up fonts-noto-mono (20201225-1build1) ...\n",
            "Setting up libwmflite-0.2-7:amd64 (0.2.12-5ubuntu1) ...\n",
            "Setting up python3-colorama (0.4.4-1) ...\n",
            "Setting up libijs-0.35:amd64 (0.35-15build2) ...\n",
            "Setting up python3-olefile (0.46-3) ...\n",
            "Setting up libjxr0:amd64 (1.2~git20170615.f752187-5) ...\n",
            "Setting up python3-yaml (5.4.1-1ubuntu1) ...\n",
            "Setting up libnetpbm10 (2:10.0-15.4) ...\n",
            "Setting up fonts-urw-base35 (20200910-1) ...\n",
            "Setting up poppler-data (0.4.11-1) ...\n",
            "Setting up groff (1.22.4-8build1) ...\n",
            "Setting up python3-roman (3.3-1) ...\n",
            "Setting up python3-pygments (2.11.2+dfsg-2) ...\n",
            "Setting up python3-chardet (4.0.0-1) ...\n",
            "Setting up python3-certifi (2020.6.20-1) ...\n",
            "Setting up libjbig2dec0:amd64 (0.19-3build2) ...\n",
            "Setting up python3-jmespath (0.10.0-1) ...\n",
            "Setting up gsfonts (1:8.11+urwcyr1.0.7~pre44-4.5) ...\n",
            "Setting up libraqm0:amd64 (0.7.0-4ubuntu1) ...\n",
            "Setting up libimagequant0:amd64 (2.17.0-1) ...\n",
            "Setting up python3-idna (3.3-1ubuntu0.1) ...\n",
            "Setting up libidn12:amd64 (1.38-4ubuntu1) ...\n",
            "Setting up netpbm (2:10.0-15.4) ...\n",
            "Setting up libfftw3-double3:amd64 (3.3.8-2ubuntu8) ...\n",
            "Setting up python3-urllib3 (1.26.5-1~exp1ubuntu0.2) ...\n",
            "Setting up liblqr-1-0:amd64 (0.4.2-2.1) ...\n",
            "Setting up python3-pyasn1 (0.4.8-1) ...\n",
            "Setting up python3-dateutil (2.8.1-6) ...\n",
            "Setting up sgml-base (1.30) ...\n",
            "Setting up fonts-droid-fallback (1:6.0.1r16-1.1build1) ...\n",
            "Setting up libdjvulibre-text (3.5.28-2build2) ...\n",
            "Setting up mailcap (3.70+nmu1ubuntu1) ...\n",
            "Setting up psutils (1.17.dfsg-4) ...\n",
            "Setting up libgs9-common (9.55.0~dfsg1-0ubuntu5.10) ...\n",
            "Setting up mime-support (3.66) ...\n",
            "Setting up libjxr-tools (1.2~git20170615.f752187-5) ...\n",
            "Setting up libgs9:amd64 (9.55.0~dfsg1-0ubuntu5.10) ...\n",
            "Setting up libdjvulibre21:amd64 (3.5.28-2build2) ...\n",
            "Setting up ghostscript (9.55.0~dfsg1-0ubuntu5.10) ...\n",
            "Setting up python3-pil:amd64 (9.0.1-1ubuntu0.3) ...\n",
            "Setting up libmagickcore-6.q16-6:amd64 (8:6.9.11.60+dfsg-1.3ubuntu0.22.04.5) ...\n",
            "Setting up python3-requests (2.25.1+dfsg-2ubuntu0.1) ...\n",
            "Setting up xml-core (0.18+nmu1) ...\n",
            "Setting up python3-rsa (4.8-1) ...\n",
            "Setting up libmagickwand-6.q16-6:amd64 (8:6.9.11.60+dfsg-1.3ubuntu0.22.04.5) ...\n",
            "Setting up libmagickcore-6.q16-6-extra:amd64 (8:6.9.11.60+dfsg-1.3ubuntu0.22.04.5) ...\n",
            "Setting up python3-botocore (1.23.34+repack-1) ...\n",
            "Setting up imagemagick-6.q16 (8:6.9.11.60+dfsg-1.3ubuntu0.22.04.5) ...\n",
            "update-alternatives: using /usr/bin/compare-im6.q16 to provide /usr/bin/compare (compare) in auto mode\n",
            "update-alternatives: using /usr/bin/compare-im6.q16 to provide /usr/bin/compare-im6 (compare-im6) in auto mode\n",
            "update-alternatives: using /usr/bin/animate-im6.q16 to provide /usr/bin/animate (animate) in auto mode\n",
            "update-alternatives: using /usr/bin/animate-im6.q16 to provide /usr/bin/animate-im6 (animate-im6) in auto mode\n",
            "update-alternatives: using /usr/bin/convert-im6.q16 to provide /usr/bin/convert (convert) in auto mode\n",
            "update-alternatives: using /usr/bin/convert-im6.q16 to provide /usr/bin/convert-im6 (convert-im6) in auto mode\n",
            "update-alternatives: using /usr/bin/composite-im6.q16 to provide /usr/bin/composite (composite) in auto mode\n",
            "update-alternatives: using /usr/bin/composite-im6.q16 to provide /usr/bin/composite-im6 (composite-im6) in auto mode\n",
            "update-alternatives: using /usr/bin/conjure-im6.q16 to provide /usr/bin/conjure (conjure) in auto mode\n",
            "update-alternatives: using /usr/bin/conjure-im6.q16 to provide /usr/bin/conjure-im6 (conjure-im6) in auto mode\n",
            "update-alternatives: using /usr/bin/import-im6.q16 to provide /usr/bin/import (import) in auto mode\n",
            "update-alternatives: using /usr/bin/import-im6.q16 to provide /usr/bin/import-im6 (import-im6) in auto mode\n",
            "update-alternatives: using /usr/bin/identify-im6.q16 to provide /usr/bin/identify (identify) in auto mode\n",
            "update-alternatives: using /usr/bin/identify-im6.q16 to provide /usr/bin/identify-im6 (identify-im6) in auto mode\n",
            "update-alternatives: using /usr/bin/stream-im6.q16 to provide /usr/bin/stream (stream) in auto mode\n",
            "update-alternatives: using /usr/bin/stream-im6.q16 to provide /usr/bin/stream-im6 (stream-im6) in auto mode\n",
            "update-alternatives: using /usr/bin/display-im6.q16 to provide /usr/bin/display (display) in auto mode\n",
            "update-alternatives: using /usr/bin/display-im6.q16 to provide /usr/bin/display-im6 (display-im6) in auto mode\n",
            "update-alternatives: using /usr/bin/montage-im6.q16 to provide /usr/bin/montage (montage) in auto mode\n",
            "update-alternatives: using /usr/bin/montage-im6.q16 to provide /usr/bin/montage-im6 (montage-im6) in auto mode\n",
            "update-alternatives: using /usr/bin/mogrify-im6.q16 to provide /usr/bin/mogrify (mogrify) in auto mode\n",
            "update-alternatives: using /usr/bin/mogrify-im6.q16 to provide /usr/bin/mogrify-im6 (mogrify-im6) in auto mode\n",
            "Setting up python3-s3transfer (0.5.0-1) ...\n",
            "Setting up imagemagick (8:6.9.11.60+dfsg-1.3ubuntu0.22.04.5) ...\n",
            "Processing triggers for fontconfig (2.13.1-4.2ubuntu5) ...\n",
            "Processing triggers for hicolor-icon-theme (0.17-2) ...\n",
            "Processing triggers for libc-bin (2.35-0ubuntu3.4) ...\n",
            "/sbin/ldconfig.real: /usr/local/lib/libtbbbind_2_5.so.3 is not a symbolic link\n",
            "\n",
            "/sbin/ldconfig.real: /usr/local/lib/libtbbmalloc.so.2 is not a symbolic link\n",
            "\n",
            "/sbin/ldconfig.real: /usr/local/lib/libtbb.so.12 is not a symbolic link\n",
            "\n",
            "/sbin/ldconfig.real: /usr/local/lib/libtbbmalloc_proxy.so.2 is not a symbolic link\n",
            "\n",
            "/sbin/ldconfig.real: /usr/local/lib/libur_adapter_opencl.so.0 is not a symbolic link\n",
            "\n",
            "/sbin/ldconfig.real: /usr/local/lib/libur_loader.so.0 is not a symbolic link\n",
            "\n",
            "/sbin/ldconfig.real: /usr/local/lib/libumf.so.0 is not a symbolic link\n",
            "\n",
            "/sbin/ldconfig.real: /usr/local/lib/libtbbbind_2_0.so.3 is not a symbolic link\n",
            "\n",
            "/sbin/ldconfig.real: /usr/local/lib/libtcm.so.1 is not a symbolic link\n",
            "\n",
            "/sbin/ldconfig.real: /usr/local/lib/libhwloc.so.15 is not a symbolic link\n",
            "\n",
            "/sbin/ldconfig.real: /usr/local/lib/libtcm_debug.so.1 is not a symbolic link\n",
            "\n",
            "/sbin/ldconfig.real: /usr/local/lib/libur_adapter_level_zero.so.0 is not a symbolic link\n",
            "\n",
            "/sbin/ldconfig.real: /usr/local/lib/libtbbbind.so.3 is not a symbolic link\n",
            "\n",
            "Processing triggers for man-db (2.10.2-1) ...\n",
            "Processing triggers for shared-mime-info (2.1-2) ...\n",
            "Processing triggers for sgml-base (1.30) ...\n",
            "Setting up docutils-common (0.17.1+dfsg-2) ...\n",
            "Processing triggers for sgml-base (1.30) ...\n",
            "Setting up python3-docutils (0.17.1+dfsg-2) ...\n",
            "Setting up awscli (1.22.34-1) ...\n"
          ]
        }
      ]
    },
    {
      "cell_type": "code",
      "source": [
        "!aws s3 cp s3://your-bucket-name/path/to/fastq/ /content/nfcore_rnaseq/ --recursive"
      ],
      "metadata": {
        "colab": {
          "base_uri": "https://localhost:8080/"
        },
        "id": "LQRu1_YaNbP8",
        "outputId": "faa95996-c0ba-4a27-ee5f-3d1985784648"
      },
      "execution_count": null,
      "outputs": [
        {
          "output_type": "stream",
          "name": "stdout",
          "text": [
            "Traceback (most recent call last):\n",
            "  File \"/usr/bin/aws\", line 19, in <module>\n",
            "    import awscli.clidriver\n",
            "  File \"/usr/lib/python3/dist-packages/awscli/clidriver.py\", line 17, in <module>\n",
            "    import botocore.session\n",
            "  File \"/usr/lib/python3/dist-packages/botocore/session.py\", line 29, in <module>\n",
            "    import botocore.credentials\n",
            "  File \"/usr/lib/python3/dist-packages/botocore/credentials.py\", line 35, in <module>\n",
            "    from botocore.config import Config\n",
            "  File \"/usr/lib/python3/dist-packages/botocore/config.py\", line 16, in <module>\n",
            "    from botocore.endpoint import DEFAULT_TIMEOUT, MAX_POOL_CONNECTIONS\n",
            "  File \"/usr/lib/python3/dist-packages/botocore/endpoint.py\", line 22, in <module>\n",
            "    from botocore.awsrequest import create_request_object\n",
            "  File \"/usr/lib/python3/dist-packages/botocore/awsrequest.py\", line 24, in <module>\n",
            "    import botocore.utils\n",
            "  File \"/usr/lib/python3/dist-packages/botocore/utils.py\", line 32, in <module>\n",
            "    import botocore.httpsession\n",
            "  File \"/usr/lib/python3/dist-packages/botocore/httpsession.py\", line 10, in <module>\n",
            "    from urllib3.util.ssl_ import (\n",
            "ImportError: cannot import name 'DEFAULT_CIPHERS' from 'urllib3.util.ssl_' (/usr/local/lib/python3.10/dist-packages/urllib3/util/ssl_.py)\n"
          ]
        }
      ]
    },
    {
      "cell_type": "code",
      "source": [],
      "metadata": {
        "id": "VK0s2VamNlRl"
      },
      "execution_count": null,
      "outputs": []
    }
  ]
}